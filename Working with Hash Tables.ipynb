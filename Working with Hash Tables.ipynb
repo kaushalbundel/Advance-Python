{
 "cells": [
  {
   "cell_type": "markdown",
   "id": "bcd8dc37-382e-4c51-9d2b-1b54e0fc8c2f",
   "metadata": {},
   "source": [
    "Hashtables are data structures that simply map one key with a value. The key and value both can be any type of data structures. eg. A english language dictionary, A phone book, An alphabet book for kids where images are mapped against the names of those images. "
   ]
  },
  {
   "cell_type": "code",
   "execution_count": 1,
   "id": "9948ece1-aa41-4900-888a-8d8ba0b3f31d",
   "metadata": {},
   "outputs": [],
   "source": [
    "#dictionary in python\n",
    "\n",
    "dict={'name':'kaushal', 'age':35, 'fav_game':\"football\"}"
   ]
  },
  {
   "cell_type": "code",
   "execution_count": 2,
   "id": "dd6c67b4-9532-477e-98e2-eab8f9dd25f2",
   "metadata": {},
   "outputs": [
    {
     "data": {
      "text/plain": [
       "'kaushal'"
      ]
     },
     "execution_count": 2,
     "metadata": {},
     "output_type": "execute_result"
    }
   ],
   "source": [
    "dict['name']"
   ]
  },
  {
   "cell_type": "code",
   "execution_count": 3,
   "id": "d371e37a-a6b9-424b-be96-19b054a5d503",
   "metadata": {},
   "outputs": [
    {
     "data": {
      "text/plain": [
       "dict_items([('name', 'kaushal'), ('age', 35), ('fav_game', 'football')])"
      ]
     },
     "execution_count": 3,
     "metadata": {},
     "output_type": "execute_result"
    }
   ],
   "source": [
    "dict.items()"
   ]
  },
  {
   "cell_type": "code",
   "execution_count": 4,
   "id": "47b18fd4-493a-4943-9ca7-9d0640164731",
   "metadata": {},
   "outputs": [
    {
     "data": {
      "text/plain": [
       "35"
      ]
     },
     "execution_count": 4,
     "metadata": {},
     "output_type": "execute_result"
    }
   ],
   "source": [
    "dict.get('age')"
   ]
  },
  {
   "cell_type": "code",
   "execution_count": 5,
   "id": "864ec099-4433-425a-aba2-a184a3711477",
   "metadata": {},
   "outputs": [],
   "source": [
    "dict['spouse']=\"Nisha\" #adding in dictionaries"
   ]
  },
  {
   "cell_type": "code",
   "execution_count": 6,
   "id": "6ba44818-3e0e-48e8-8f26-5024eeaced80",
   "metadata": {},
   "outputs": [
    {
     "data": {
      "text/plain": [
       "dict_items([('name', 'kaushal'), ('age', 35), ('fav_game', 'football'), ('spouse', 'Nisha')])"
      ]
     },
     "execution_count": 6,
     "metadata": {},
     "output_type": "execute_result"
    }
   ],
   "source": [
    "dict.items()"
   ]
  },
  {
   "cell_type": "code",
   "execution_count": 7,
   "id": "63c2b663-e2ff-4c79-8d22-a26bd951dc97",
   "metadata": {},
   "outputs": [],
   "source": [
    "dict[\"age\"]=36 #updating in dictionaries"
   ]
  },
  {
   "cell_type": "code",
   "execution_count": 8,
   "id": "69747895-f62e-47eb-b7b0-9dcd42bc18e9",
   "metadata": {},
   "outputs": [
    {
     "data": {
      "text/plain": [
       "dict_items([('name', 'kaushal'), ('age', 36), ('fav_game', 'football'), ('spouse', 'Nisha')])"
      ]
     },
     "execution_count": 8,
     "metadata": {},
     "output_type": "execute_result"
    }
   ],
   "source": [
    "dict.items()"
   ]
  },
  {
   "cell_type": "markdown",
   "id": "2c4ce065-cdd7-4c44-99b8-98b396ba7cd9",
   "metadata": {},
   "source": [
    "Hash tables get their name from a trick called hashing, which lets them translate an arbitrary key into an integer number that can work as an index in a regular array. So, instead of searching a value by a numeric index, you’ll look it up by an arbitrary key without a noticeable performance loss."
   ]
  },
  {
   "cell_type": "markdown",
   "id": "4bb883d5-8c03-4dce-84fd-5cce86facd83",
   "metadata": {},
   "source": [
    "A hash function performs hashing by turning any data into a fixed-size sequence of bytes called the hash value or the hash code. It’s a number that can act as a digital fingerprint or a digest, usually much smaller than the original data, which lets you verify its integrity. If you’ve ever fetched a large file from the Internet, such as a disk image of a Linux distribution, then you may have noticed an MD5 or SHA-2 checksum on the download page.\n",
    "\n",
    "Aside from verifying data integrity and solving the dictionary problem, hash functions help in other fields, including security and cryptography. For example, you typically store hashed passwords in databases to mitigate the risk of data leaks. Digital signatures involve hashing to create a message digest before encryption. Blockchain transactions are another prime example of using a hash function for cryptographic purposes."
   ]
  },
  {
   "cell_type": "markdown",
   "id": "27e19947-1a09-4556-b497-fc2f9825cb8e",
   "metadata": {},
   "source": [
    "Python comes with a built-in hashlib module, which provides a variety of well-known cryptographic hash functions, as well as less secure checksum algorithms. The language also has a global hash() function, used primarily for quick element lookup in dictionaries and sets. You can study how it works first to learn about the most important properties of hash functions."
   ]
  },
  {
   "cell_type": "code",
   "execution_count": 9,
   "id": "024290f1-171a-4cac-a5b2-0afbd15a7d8c",
   "metadata": {},
   "outputs": [],
   "source": [
    "import hashlib"
   ]
  },
  {
   "cell_type": "code",
   "execution_count": 10,
   "id": "d883219f-3a1b-456b-abee-e3f57394c223",
   "metadata": {},
   "outputs": [
    {
     "data": {
      "text/plain": [
       "4411069311294474337"
      ]
     },
     "execution_count": 10,
     "metadata": {},
     "output_type": "execute_result"
    }
   ],
   "source": [
    "hash(\"text\")"
   ]
  },
  {
   "cell_type": "code",
   "execution_count": 11,
   "id": "c7f44234-4910-405b-ad12-58c5f3c5b277",
   "metadata": {},
   "outputs": [
    {
     "data": {
      "text/plain": [
       "123456"
      ]
     },
     "execution_count": 11,
     "metadata": {},
     "output_type": "execute_result"
    }
   ],
   "source": [
    "hash(123456)"
   ]
  },
  {
   "cell_type": "code",
   "execution_count": 12,
   "id": "f751c7dc-71b9-4ff7-b3d9-f7bbb6d5f5d6",
   "metadata": {},
   "outputs": [
    {
     "ename": "TypeError",
     "evalue": "unhashable type: 'list'",
     "output_type": "error",
     "traceback": [
      "\u001b[0;31m---------------------------------------------------------------------------\u001b[0m",
      "\u001b[0;31mTypeError\u001b[0m                                 Traceback (most recent call last)",
      "Input \u001b[0;32mIn [12]\u001b[0m, in \u001b[0;36m<cell line: 1>\u001b[0;34m()\u001b[0m\n\u001b[0;32m----> 1\u001b[0m \u001b[38;5;28;43mhash\u001b[39;49m\u001b[43m(\u001b[49m\u001b[43m[\u001b[49m\u001b[38;5;124;43m'\u001b[39;49m\u001b[38;5;124;43mcody\u001b[39;49m\u001b[38;5;124;43m'\u001b[39;49m\u001b[43m]\u001b[49m\u001b[43m)\u001b[49m\n",
      "\u001b[0;31mTypeError\u001b[0m: unhashable type: 'list'"
     ]
    }
   ],
   "source": [
    "hash(['cody'])"
   ]
  },
  {
   "cell_type": "code",
   "execution_count": 13,
   "id": "7e213f5f-1b9f-4333-936c-d80a1500d31e",
   "metadata": {},
   "outputs": [
    {
     "data": {
      "text/plain": [
       "-7888055518730400442"
      ]
     },
     "execution_count": 13,
     "metadata": {},
     "output_type": "execute_result"
    }
   ],
   "source": [
    "hash(\"potato\")"
   ]
  },
  {
   "cell_type": "markdown",
   "id": "a1c17ab0-f1af-4c81-8d0c-9ea7ff1d5ecd",
   "metadata": {},
   "source": [
    "## Creating a Hash Function"
   ]
  },
  {
   "cell_type": "code",
   "execution_count": 14,
   "id": "33a80c86-1fcf-4747-bbee-ce9ecfcf4c24",
   "metadata": {},
   "outputs": [
    {
     "data": {
      "text/plain": [
       "97"
      ]
     },
     "execution_count": 14,
     "metadata": {},
     "output_type": "execute_result"
    }
   ],
   "source": [
    "ord(\"a\")"
   ]
  },
  {
   "cell_type": "code",
   "execution_count": 15,
   "id": "70152873-e885-41bf-b167-7d134491ffb6",
   "metadata": {},
   "outputs": [
    {
     "data": {
      "text/plain": [
       "97"
      ]
     },
     "execution_count": 15,
     "metadata": {},
     "output_type": "execute_result"
    }
   ],
   "source": [
    "ord(\"a\")"
   ]
  },
  {
   "cell_type": "code",
   "execution_count": 16,
   "id": "aa17131a-5ce8-4878-ad08-34e6d6bfdfb6",
   "metadata": {},
   "outputs": [
    {
     "data": {
      "text/plain": [
       "98"
      ]
     },
     "execution_count": 16,
     "metadata": {},
     "output_type": "execute_result"
    }
   ],
   "source": [
    "ord(\"b\")"
   ]
  },
  {
   "cell_type": "code",
   "execution_count": 17,
   "id": "18730470-fc3f-4289-97fb-50b50c991fec",
   "metadata": {},
   "outputs": [
    {
     "data": {
      "text/plain": [
       "123"
      ]
     },
     "execution_count": 17,
     "metadata": {},
     "output_type": "execute_result"
    }
   ],
   "source": [
    "97+26"
   ]
  },
  {
   "cell_type": "code",
   "execution_count": 18,
   "id": "055fbb79-6c42-4e41-9788-2531565f472d",
   "metadata": {},
   "outputs": [
    {
     "data": {
      "text/plain": [
       "122"
      ]
     },
     "execution_count": 18,
     "metadata": {},
     "output_type": "execute_result"
    }
   ],
   "source": [
    "ord(\"z\")"
   ]
  },
  {
   "cell_type": "code",
   "execution_count": null,
   "id": "52603775-6b94-49a8-bcf9-b12ac6aa38e4",
   "metadata": {},
   "outputs": [],
   "source": [
    "#ord() #this returns the unicode code point for one character string"
   ]
  },
  {
   "cell_type": "markdown",
   "id": "089c0c17-8f18-4113-864c-6a4cf51262b8",
   "metadata": {},
   "source": [
    "# Designing a Hash Function"
   ]
  },
  {
   "cell_type": "code",
   "execution_count": 25,
   "id": "0eed4ef7-99ce-4b17-bf3c-6e0ceb5b2b31",
   "metadata": {},
   "outputs": [],
   "source": [
    "def hashfunction(word):\n",
    "    '''This function gives the sum of unicode characters (provided by ord) for each text in the word'''\n",
    "    return sum(ord(char) for char in word)"
   ]
  },
  {
   "cell_type": "code",
   "execution_count": 20,
   "id": "4a079263-3683-495b-a4da-fa50e74414f5",
   "metadata": {},
   "outputs": [
    {
     "data": {
      "text/plain": [
       "745"
      ]
     },
     "execution_count": 20,
     "metadata": {},
     "output_type": "execute_result"
    }
   ],
   "source": [
    "hashfunction(\"kaushal\")"
   ]
  },
  {
   "cell_type": "code",
   "execution_count": 21,
   "id": "b4778d29-ef46-4f02-a15b-df78e7557a89",
   "metadata": {},
   "outputs": [
    {
     "data": {
      "text/plain": [
       "499"
      ]
     },
     "execution_count": 21,
     "metadata": {},
     "output_type": "execute_result"
    }
   ],
   "source": [
    "hashfunction(\"Nisha\")"
   ]
  },
  {
   "cell_type": "code",
   "execution_count": 22,
   "id": "a71301a7-2f1c-4cd3-b4ac-075f28ffa116",
   "metadata": {},
   "outputs": [
    {
     "data": {
      "text/plain": [
       "745"
      ]
     },
     "execution_count": 22,
     "metadata": {},
     "output_type": "execute_result"
    }
   ],
   "source": [
    "hashfunction(\"aushakl\")"
   ]
  },
  {
   "cell_type": "code",
   "execution_count": 23,
   "id": "f7451c45-3633-4b55-a3cd-89fad6e34356",
   "metadata": {},
   "outputs": [
    {
     "data": {
      "text/plain": [
       "745"
      ]
     },
     "execution_count": 23,
     "metadata": {},
     "output_type": "execute_result"
    }
   ],
   "source": [
    "hashfunction(\"laushak\")"
   ]
  },
  {
   "cell_type": "code",
   "execution_count": 24,
   "id": "3f8d2a3a-3d78-4cf1-84f8-b376f8bc9099",
   "metadata": {},
   "outputs": [
    {
     "data": {
      "text/plain": [
       "65"
      ]
     },
     "execution_count": 24,
     "metadata": {},
     "output_type": "execute_result"
    }
   ],
   "source": [
    "ord(\"A\")"
   ]
  },
  {
   "cell_type": "markdown",
   "id": "9d0c6e7a-51b6-4177-bace-bc9baad45b08",
   "metadata": {},
   "source": [
    "A problem or drawback that has been identified is that for words that have the same letters the sum of unicode characters is same. eg, consider \"kaushal\" and \"aushakl\". This effect is also pronounced when the words are anagram. eg. nitin. Also the function is not able to take any numbers."
   ]
  },
  {
   "cell_type": "code",
   "execution_count": 27,
   "id": "384aa661-217e-484a-8693-e3b7994cb39d",
   "metadata": {},
   "outputs": [
    {
     "ename": "TypeError",
     "evalue": "'int' object is not iterable",
     "output_type": "error",
     "traceback": [
      "\u001b[0;31m---------------------------------------------------------------------------\u001b[0m",
      "\u001b[0;31mTypeError\u001b[0m                                 Traceback (most recent call last)",
      "Input \u001b[0;32mIn [27]\u001b[0m, in \u001b[0;36m<cell line: 1>\u001b[0;34m()\u001b[0m\n\u001b[0;32m----> 1\u001b[0m \u001b[43mhashfunction\u001b[49m\u001b[43m(\u001b[49m\u001b[38;5;241;43m123\u001b[39;49m\u001b[43m)\u001b[49m\n",
      "Input \u001b[0;32mIn [25]\u001b[0m, in \u001b[0;36mhashfunction\u001b[0;34m(word)\u001b[0m\n\u001b[1;32m      1\u001b[0m \u001b[38;5;28;01mdef\u001b[39;00m \u001b[38;5;21mhashfunction\u001b[39m(word):\n\u001b[1;32m      2\u001b[0m     \u001b[38;5;124;03m'''This function gives the sum of unicode characters (provided by ord) for each text in the word'''\u001b[39;00m\n\u001b[0;32m----> 3\u001b[0m     \u001b[38;5;28;01mreturn\u001b[39;00m \u001b[38;5;28msum\u001b[39m(\u001b[38;5;28mord\u001b[39m(char) \u001b[38;5;28;01mfor\u001b[39;00m char \u001b[38;5;129;01min\u001b[39;00m word)\n",
      "\u001b[0;31mTypeError\u001b[0m: 'int' object is not iterable"
     ]
    }
   ],
   "source": [
    "hashfunction(123)"
   ]
  },
  {
   "cell_type": "code",
   "execution_count": 29,
   "id": "a7c67bff-1c6a-4775-ad45-87a874570477",
   "metadata": {},
   "outputs": [],
   "source": [
    "#modifying the function so that the function is able to take numerical values as well.\n",
    "\n",
    "def hash_function(key):\n",
    "    \"\"\"The function takes a key, converts to it to a string and returns the sum of unicode values of the string\"\"\"\n",
    "    return sum(ord(strng) for strng in str(key))"
   ]
  },
  {
   "cell_type": "code",
   "execution_count": 30,
   "id": "751d9cc8-7788-4d75-8947-87532289b425",
   "metadata": {},
   "outputs": [
    {
     "data": {
      "text/plain": [
       "150"
      ]
     },
     "execution_count": 30,
     "metadata": {},
     "output_type": "execute_result"
    }
   ],
   "source": [
    "hash_function(123)"
   ]
  },
  {
   "cell_type": "code",
   "execution_count": 31,
   "id": "40a7cc6e-7706-4a36-9f6d-a7bb5baaeec7",
   "metadata": {},
   "outputs": [
    {
     "ename": "TypeError",
     "evalue": "'int' object is not iterable",
     "output_type": "error",
     "traceback": [
      "\u001b[0;31m---------------------------------------------------------------------------\u001b[0m",
      "\u001b[0;31mTypeError\u001b[0m                                 Traceback (most recent call last)",
      "Input \u001b[0;32mIn [31]\u001b[0m, in \u001b[0;36m<cell line: 1>\u001b[0;34m()\u001b[0m\n\u001b[0;32m----> 1\u001b[0m \u001b[43mhashfunction\u001b[49m\u001b[43m(\u001b[49m\u001b[38;5;241;43m123\u001b[39;49m\u001b[43m)\u001b[49m\n",
      "Input \u001b[0;32mIn [25]\u001b[0m, in \u001b[0;36mhashfunction\u001b[0;34m(word)\u001b[0m\n\u001b[1;32m      1\u001b[0m \u001b[38;5;28;01mdef\u001b[39;00m \u001b[38;5;21mhashfunction\u001b[39m(word):\n\u001b[1;32m      2\u001b[0m     \u001b[38;5;124;03m'''This function gives the sum of unicode characters (provided by ord) for each text in the word'''\u001b[39;00m\n\u001b[0;32m----> 3\u001b[0m     \u001b[38;5;28;01mreturn\u001b[39;00m \u001b[38;5;28msum\u001b[39m(\u001b[38;5;28mord\u001b[39m(char) \u001b[38;5;28;01mfor\u001b[39;00m char \u001b[38;5;129;01min\u001b[39;00m word)\n",
      "\u001b[0;31mTypeError\u001b[0m: 'int' object is not iterable"
     ]
    }
   ],
   "source": [
    "hashfunction(123)"
   ]
  },
  {
   "cell_type": "code",
   "execution_count": 33,
   "id": "ef1f2895-f7cd-4ead-b889-ddbd9b5486d1",
   "metadata": {},
   "outputs": [
    {
     "data": {
      "text/plain": [
       "150"
      ]
     },
     "execution_count": 33,
     "metadata": {},
     "output_type": "execute_result"
    }
   ],
   "source": [
    "hashfunction(\"123\") #this and the above functions are same except we need to convert numericals in string upfront"
   ]
  },
  {
   "cell_type": "code",
   "execution_count": 34,
   "id": "1656eecc-9eb2-4809-9ce5-dc447b040bdd",
   "metadata": {},
   "outputs": [
    {
     "data": {
      "text/plain": [
       "150"
      ]
     },
     "execution_count": 34,
     "metadata": {},
     "output_type": "execute_result"
    }
   ],
   "source": [
    "hash_function(123)"
   ]
  },
  {
   "cell_type": "code",
   "execution_count": 35,
   "id": "5a56d244-9b5e-41fc-b342-0a3b02e0ed9b",
   "metadata": {},
   "outputs": [
    {
     "data": {
      "text/plain": [
       "150"
      ]
     },
     "execution_count": 35,
     "metadata": {},
     "output_type": "execute_result"
    }
   ],
   "source": [
    "hash_function(\"123\")"
   ]
  },
  {
   "cell_type": "markdown",
   "id": "f2ee4c0f-ecc7-4205-b976-aa254ccf8b63",
   "metadata": {},
   "source": [
    "The above two results should actually be different. One is string while the other is number. We can use repr() function to improve this function. repr() provides a printable representation of an object in python."
   ]
  },
  {
   "cell_type": "code",
   "execution_count": 37,
   "id": "c98dd1fe-6f0b-46e8-b8c6-9b3df4f26600",
   "metadata": {},
   "outputs": [],
   "source": [
    "def hash_function1(key):\n",
    "    return sum(ord(obj) for obj in repr(key))"
   ]
  },
  {
   "cell_type": "code",
   "execution_count": 40,
   "id": "206a7e92-3489-4353-aa42-31ff3f97674b",
   "metadata": {},
   "outputs": [
    {
     "data": {
      "text/plain": [
       "276"
      ]
     },
     "execution_count": 40,
     "metadata": {},
     "output_type": "execute_result"
    }
   ],
   "source": [
    "hash_function1(\"3.14\")"
   ]
  },
  {
   "cell_type": "code",
   "execution_count": 39,
   "id": "19e913db-3036-42b1-a35e-f5439d76d0fa",
   "metadata": {},
   "outputs": [
    {
     "data": {
      "text/plain": [
       "198"
      ]
     },
     "execution_count": 39,
     "metadata": {},
     "output_type": "execute_result"
    }
   ],
   "source": [
    "hash_function1(3.14)"
   ]
  },
  {
   "cell_type": "markdown",
   "id": "5e9e06b1-ed5c-4c8c-9078-be22a89bf661",
   "metadata": {},
   "source": [
    "This solves the problem to some extent, but for anagrams and the words whose spelling is same we are still seeing the same result. eg."
   ]
  },
  {
   "cell_type": "code",
   "execution_count": 41,
   "id": "b40a3fa5-c6a7-4297-aebc-1aa21b88b5fd",
   "metadata": {},
   "outputs": [
    {
     "data": {
      "text/plain": [
       "823"
      ]
     },
     "execution_count": 41,
     "metadata": {},
     "output_type": "execute_result"
    }
   ],
   "source": [
    "hash_function1(\"kaushal\")"
   ]
  },
  {
   "cell_type": "code",
   "execution_count": 42,
   "id": "ee045856-bf44-4292-bc9f-8f4df5f4581b",
   "metadata": {},
   "outputs": [
    {
     "data": {
      "text/plain": [
       "823"
      ]
     },
     "execution_count": 42,
     "metadata": {},
     "output_type": "execute_result"
    }
   ],
   "source": [
    "hash_function1(\"aushalk\")"
   ]
  },
  {
   "cell_type": "code",
   "execution_count": 51,
   "id": "b19f5382-9470-42d0-958c-68a0430d17de",
   "metadata": {},
   "outputs": [],
   "source": [
    "def hash_function2(key):\n",
    "    \"\"\"takes the key and the index of a specific character and returns a sum of unicode values\"\"\"\n",
    "    return sum(index * ord(charc) for index, charc in enumerate(repr(key),start=1))"
   ]
  },
  {
   "cell_type": "code",
   "execution_count": 52,
   "id": "2b5a0151-5186-4cc9-b9dc-33759f03963c",
   "metadata": {},
   "outputs": [
    {
     "data": {
      "text/plain": [
       "(4105, 4109)"
      ]
     },
     "execution_count": 52,
     "metadata": {},
     "output_type": "execute_result"
    }
   ],
   "source": [
    "hash_function2(\"kaushal\"), hash_function2(\"aushalk\")"
   ]
  },
  {
   "cell_type": "markdown",
   "id": "5fe0da57-380b-4028-bbe7-ab3a8ca765b5",
   "metadata": {},
   "source": [
    "This update gives different values to the different hash functions."
   ]
  },
  {
   "cell_type": "code",
   "execution_count": 60,
   "id": "5b179091-81fc-46b5-9eda-07d954a325d0",
   "metadata": {},
   "outputs": [
    {
     "name": "stdout",
     "output_type": "stream",
     "text": [
      "832 ns ± 2.78 ns per loop (mean ± std. dev. of 7 runs, 1,000,000 loops each)\n"
     ]
    }
   ],
   "source": [
    "%%timeit \n",
    "hash_function2(\"kaushal\")"
   ]
  },
  {
   "cell_type": "code",
   "execution_count": 61,
   "id": "85c76d9b-5676-462d-bf19-af924d6454b8",
   "metadata": {},
   "outputs": [
    {
     "name": "stdout",
     "output_type": "stream",
     "text": [
      "973 ns ± 2.01 ns per loop (mean ± std. dev. of 7 runs, 1,000,000 loops each)\n"
     ]
    }
   ],
   "source": [
    "%%timeit \n",
    "hash_function2(\"screeeemm\")*1000000"
   ]
  },
  {
   "cell_type": "code",
   "execution_count": null,
   "id": "bc9b9189-e61f-4ac8-9783-6b4e489fe788",
   "metadata": {},
   "outputs": [],
   "source": []
  }
 ],
 "metadata": {
  "kernelspec": {
   "display_name": "Python 3 (ipykernel)",
   "language": "python",
   "name": "python3"
  },
  "language_info": {
   "codemirror_mode": {
    "name": "ipython",
    "version": 3
   },
   "file_extension": ".py",
   "mimetype": "text/x-python",
   "name": "python",
   "nbconvert_exporter": "python",
   "pygments_lexer": "ipython3",
   "version": "3.9.13"
  }
 },
 "nbformat": 4,
 "nbformat_minor": 5
}
