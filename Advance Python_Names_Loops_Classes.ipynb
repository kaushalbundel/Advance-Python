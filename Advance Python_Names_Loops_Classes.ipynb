{
 "cells": [
  {
   "cell_type": "markdown",
   "metadata": {},
   "source": [
    "# For Loops\n",
    "\n",
    "An iterable is a object capable of returning multiple values"
   ]
  },
  {
   "cell_type": "code",
   "execution_count": 2,
   "metadata": {},
   "outputs": [
    {
     "name": "stdout",
     "output_type": "stream",
     "text": [
      "0\n",
      "1\n",
      "2\n",
      "3\n",
      "4\n"
     ]
    }
   ],
   "source": [
    "for i in range(5):\n",
    "    print(i)"
   ]
  },
  {
   "cell_type": "code",
   "execution_count": 8,
   "metadata": {},
   "outputs": [
    {
     "name": "stdout",
     "output_type": "stream",
     "text": [
      "2\n"
     ]
    }
   ],
   "source": [
    "# for loops can also use try, except, finally and break and continue code blocks\n",
    "\n",
    "for i in range(5):\n",
    "    if i==2:\n",
    "        print(i)\n",
    "        break\n",
    "else:\n",
    "    print(\"Running else statement\")"
   ]
  },
  {
   "cell_type": "code",
   "execution_count": 9,
   "metadata": {},
   "outputs": [
    {
     "name": "stdout",
     "output_type": "stream",
     "text": [
      "2\n",
      "Running else statement\n"
     ]
    }
   ],
   "source": [
    "# for loops can also use try, except, finally and break and continue code blocks\n",
    "\n",
    "for i in range(5):\n",
    "    if i==2:\n",
    "        print(i)\n",
    "        continue\n",
    "else:\n",
    "    print(\"Running else statement\")"
   ]
  },
  {
   "cell_type": "markdown",
   "metadata": {},
   "source": [
    "In the case of break, the else code block is not executed as the break statement is encountered. It means that the break statement breaks the code execution.\n",
    "In the case of continue, the code block continues to run after a condition has met."
   ]
  },
  {
   "cell_type": "code",
   "execution_count": 10,
   "metadata": {},
   "outputs": [
    {
     "name": "stdout",
     "output_type": "stream",
     "text": [
      "a b\n",
      "c d\n"
     ]
    }
   ],
   "source": [
    "# A for loop can iterate over range, lists, tuples a list of tuples etc.\n",
    "\n",
    "a=[('a', 'b'), ('c', 'd')]\n",
    "\n",
    "for i, j in a:\n",
    "    print(i, j)"
   ]
  },
  {
   "cell_type": "code",
   "execution_count": 11,
   "metadata": {},
   "outputs": [
    {
     "name": "stdout",
     "output_type": "stream",
     "text": [
      "----------------------\n",
      "error is zero division error\n",
      "The loop ends here\n",
      "----------------------\n",
      "5.0\n",
      "The loop ends here\n",
      "----------------------\n",
      "2.5\n",
      "The loop ends here\n",
      "----------------------\n",
      "1.6666666666666667\n",
      "The loop ends here\n",
      "----------------------\n",
      "1.25\n",
      "The loop ends here\n"
     ]
    }
   ],
   "source": [
    "#Using the try, except and finally statement\n",
    "\n",
    "for i in range(5):\n",
    "    print('----------------------')\n",
    "    try:\n",
    "        a=5/i\n",
    "        print(a)\n",
    "    except ZeroDivisionError:\n",
    "        print(\"error is zero division error\")\n",
    "    finally:\n",
    "        print(\"The loop ends here\")\n",
    "\n",
    "\n",
    "    "
   ]
  },
  {
   "cell_type": "markdown",
   "metadata": {},
   "source": [
    "## Enumerate\n",
    "\n",
    "Sometimes we want to check how many loops/iterations have happened while looping over a list/dictionary or a tuple. We could also want to see the index along with the iteration. To enable that enumerate function is used."
   ]
  },
  {
   "cell_type": "code",
   "execution_count": 12,
   "metadata": {},
   "outputs": [
    {
     "name": "stdout",
     "output_type": "stream",
     "text": [
      "0 K\n",
      "1 a\n",
      "2 u\n",
      "3 s\n",
      "4 h\n",
      "5 a\n",
      "6 l\n"
     ]
    }
   ],
   "source": [
    "word= \"Kaushal\"\n",
    "\n",
    "for i, j in enumerate(word):\n",
    "    print(i, j)"
   ]
  },
  {
   "cell_type": "markdown",
   "metadata": {},
   "source": [
    "# Classes\n",
    "\n",
    "A basic implementation of classes"
   ]
  },
  {
   "cell_type": "markdown",
   "metadata": {},
   "source": [
    "- This example of classes is explained using a rectangle. \n",
    "- We will first start with the properties of the rectangle such as width, height, area and perimeter.\n",
    "- After words we will look at something called getters and setter and different ways to implement these getters and setters, we would also know the utility of getters and setters\n",
    "- The last bit will deal with dunder methods where we will check if one rectangle is bigger than another\n"
   ]
  },
  {
   "cell_type": "code",
   "execution_count": 17,
   "metadata": {},
   "outputs": [],
   "source": [
    "class Rectangle:\n",
    "    def __init__(self, width, height):\n",
    "        self.width= width\n",
    "        self.height=height\n"
   ]
  },
  {
   "cell_type": "code",
   "execution_count": 27,
   "metadata": {},
   "outputs": [],
   "source": [
    "r1= Rectangle(2, 3)"
   ]
  },
  {
   "cell_type": "code",
   "execution_count": 21,
   "metadata": {},
   "outputs": [
    {
     "data": {
      "text/plain": [
       "(2, 3)"
      ]
     },
     "execution_count": 21,
     "metadata": {},
     "output_type": "execute_result"
    }
   ],
   "source": [
    "r1.width, r1.height"
   ]
  },
  {
   "cell_type": "code",
   "execution_count": 25,
   "metadata": {},
   "outputs": [],
   "source": [
    "class Rectangle:\n",
    "    def __init__(self, width, height):\n",
    "        self.width= width\n",
    "        self.height=height\n",
    "    def area():\n",
    "        return self.width * self.height \n"
   ]
  },
  {
   "cell_type": "code",
   "execution_count": 28,
   "metadata": {},
   "outputs": [
    {
     "ename": "TypeError",
     "evalue": "Rectangle.area() takes 0 positional arguments but 1 was given",
     "output_type": "error",
     "traceback": [
      "\u001b[1;31m---------------------------------------------------------------------------\u001b[0m",
      "\u001b[1;31mTypeError\u001b[0m                                 Traceback (most recent call last)",
      "\u001b[1;32mc:\\Users\\kaush\\OneDrive\\Desktop\\Coding\\Advanced Python\\Advance Python_Names_Loops_Classes.ipynb Cell 16'\u001b[0m in \u001b[0;36m<cell line: 1>\u001b[1;34m()\u001b[0m\n\u001b[1;32m----> <a href='vscode-notebook-cell:/c%3A/Users/kaush/OneDrive/Desktop/Coding/Advanced%20Python/Advance%20Python_Names_Loops_Classes.ipynb#ch0000023?line=0'>1</a>\u001b[0m r1\u001b[39m.\u001b[39;49marea()\n",
      "\u001b[1;31mTypeError\u001b[0m: Rectangle.area() takes 0 positional arguments but 1 was given"
     ]
    }
   ],
   "source": [
    "r1.area()"
   ]
  },
  {
   "cell_type": "code",
   "execution_count": 42,
   "metadata": {},
   "outputs": [],
   "source": [
    "class Rectangle:\n",
    "    def __init__(self, width, height): #class attributes are established #the first attribute is self and it contains the object being created #width and height are attributes but since they are not returned we will call them properties\n",
    "        self.width= width\n",
    "        self.height=height\n",
    "    def area(self):\n",
    "        return self.width * self.height #while defining area we are defining the width and height of the instance of the Reactangle object. We can add additional arguments as well.   "
   ]
  },
  {
   "cell_type": "code",
   "execution_count": 43,
   "metadata": {},
   "outputs": [],
   "source": [
    "r2= Rectangle(3,4)"
   ]
  },
  {
   "cell_type": "code",
   "execution_count": 45,
   "metadata": {},
   "outputs": [
    {
     "data": {
      "text/plain": [
       "12"
      ]
     },
     "execution_count": 45,
     "metadata": {},
     "output_type": "execute_result"
    }
   ],
   "source": [
    "r2.area()"
   ]
  },
  {
   "cell_type": "code",
   "execution_count": 46,
   "metadata": {},
   "outputs": [],
   "source": [
    "class Rectangle:\n",
    "    def __init__(self, width, height): #class attributes are established #the first attribute is self and it contains the object being created #width and height are attributes but since they are not returned we will call them properties\n",
    "        self.width= width\n",
    "        self.height=height\n",
    "    def area(self):\n",
    "        return self.width * self.height #while defining area we are defining the width and height of the instance of the Reactangle object. We can add additional arguments as well.   \n",
    "    def perimeter(self):\n",
    "        return 2 * (self.width + self.height) "
   ]
  },
  {
   "cell_type": "code",
   "execution_count": 47,
   "metadata": {},
   "outputs": [
    {
     "data": {
      "text/plain": [
       "22"
      ]
     },
     "execution_count": 47,
     "metadata": {},
     "output_type": "execute_result"
    }
   ],
   "source": [
    "r3= Rectangle(5,6)\n",
    "r3.perimeter()"
   ]
  },
  {
   "cell_type": "code",
   "execution_count": 48,
   "metadata": {},
   "outputs": [
    {
     "data": {
      "text/plain": [
       "6"
      ]
     },
     "execution_count": 48,
     "metadata": {},
     "output_type": "execute_result"
    }
   ],
   "source": [
    "r3.height"
   ]
  },
  {
   "cell_type": "code",
   "execution_count": 49,
   "metadata": {},
   "outputs": [
    {
     "data": {
      "text/plain": [
       "5"
      ]
     },
     "execution_count": 49,
     "metadata": {},
     "output_type": "execute_result"
    }
   ],
   "source": [
    "r3.width"
   ]
  },
  {
   "cell_type": "code",
   "execution_count": 53,
   "metadata": {},
   "outputs": [
    {
     "data": {
      "text/plain": [
       "<__main__.Rectangle at 0x288626c98d0>"
      ]
     },
     "execution_count": 53,
     "metadata": {},
     "output_type": "execute_result"
    }
   ],
   "source": [
    "r3  # if we just look for the instance of the Rectangle class we just see a memory location. However we may want to know the instance properties for this class. "
   ]
  },
  {
   "cell_type": "code",
   "execution_count": 69,
   "metadata": {},
   "outputs": [],
   "source": [
    "# To see the properties of the instance of the class\n",
    "class Rectangle:\n",
    "    def __init__(self, width, height): #class attributes are established #the first attribute is self and it contains the object being created #width and height are attributes but since they are not returned we will call them properties\n",
    "        self.width= width\n",
    "        self.height=height\n",
    "    def area(self):\n",
    "        return self.width * self.height #while defining area we are defining the width and height of the instance of the Reactangle object. We can add additional arguments as well.   \n",
    "    def perimeter(self):\n",
    "        return 2 * (self.width + self.height)\n",
    "    def __str__(self):\n",
    "        return f\"The width of rectangle is {self.width} and height is {self.height}\" #here we do not need to add a print statement, just return is fine\n",
    "    def __repr__(self):\n",
    "        return f\"The width of rectangle is {self.width} and height is {self.height}\""
   ]
  },
  {
   "cell_type": "code",
   "execution_count": 70,
   "metadata": {},
   "outputs": [],
   "source": [
    "r4=Rectangle(4,5)"
   ]
  },
  {
   "cell_type": "code",
   "execution_count": 71,
   "metadata": {},
   "outputs": [
    {
     "data": {
      "text/plain": [
       "The width of rectangle is 4 and height is 5"
      ]
     },
     "execution_count": 71,
     "metadata": {},
     "output_type": "execute_result"
    }
   ],
   "source": [
    "r4"
   ]
  },
  {
   "cell_type": "code",
   "execution_count": 72,
   "metadata": {},
   "outputs": [
    {
     "data": {
      "text/plain": [
       "'10'"
      ]
     },
     "execution_count": 72,
     "metadata": {},
     "output_type": "execute_result"
    }
   ],
   "source": [
    "str(10) #str method essentially converts the number in string"
   ]
  },
  {
   "cell_type": "code",
   "execution_count": 75,
   "metadata": {},
   "outputs": [
    {
     "name": "stdout",
     "output_type": "stream",
     "text": [
      "The width of rectangle is 4 and height is 5\n"
     ]
    }
   ],
   "source": [
    "# We can use string (str) method to know more about the class \n",
    "# to this we need to write a __str__ method into the class\n",
    "print(r4)"
   ]
  },
  {
   "cell_type": "code",
   "execution_count": 76,
   "metadata": {},
   "outputs": [
    {
     "data": {
      "text/plain": [
       "The width of rectangle is 4 and height is 5"
      ]
     },
     "execution_count": 76,
     "metadata": {},
     "output_type": "execute_result"
    }
   ],
   "source": [
    "r4"
   ]
  },
  {
   "cell_type": "markdown",
   "metadata": {},
   "source": [
    "--------"
   ]
  },
  {
   "cell_type": "code",
   "execution_count": 80,
   "metadata": {},
   "outputs": [],
   "source": [
    "# To see the properties of the instance of the class\n",
    "class Rectangle:\n",
    "    def __init__(self, width, height):\n",
    "        self.height=height\n",
    "        self.width=width\n",
    "    def area(self):\n",
    "        return self.width * self.height \n",
    "    def perimeter(self):\n",
    "        return 2 * (self.width + self.height)\n",
    "    def __str__(self):\n",
    "        return f\"The width of rectangle is {self.width} and height is {self.height}\"\n",
    "    def __repr__(self):\n",
    "        return f\"The width of rectangle is {self.width} and height is {self.height}\"\n"
   ]
  },
  {
   "cell_type": "code",
   "execution_count": 81,
   "metadata": {},
   "outputs": [],
   "source": [
    "r5=Rectangle(6,8)"
   ]
  },
  {
   "cell_type": "code",
   "execution_count": 82,
   "metadata": {},
   "outputs": [
    {
     "data": {
      "text/plain": [
       "The width of rectangle is 6 and height is 8"
      ]
     },
     "execution_count": 82,
     "metadata": {},
     "output_type": "execute_result"
    }
   ],
   "source": [
    "r5"
   ]
  },
  {
   "cell_type": "code",
   "execution_count": 84,
   "metadata": {},
   "outputs": [],
   "source": [
    "# We have a problem with this kind of implementation\n",
    "# In this implementation we can set the value of a property from outside of the class\n",
    "\n",
    "r5.width= 10"
   ]
  },
  {
   "cell_type": "code",
   "execution_count": 87,
   "metadata": {},
   "outputs": [
    {
     "data": {
      "text/plain": [
       "The width of rectangle is 10 and height is 8"
      ]
     },
     "execution_count": 87,
     "metadata": {},
     "output_type": "execute_result"
    }
   ],
   "source": [
    "r5 #The width has been changed, but the original instance was call with the width as 6 and this may cause problem in the future"
   ]
  },
  {
   "cell_type": "code",
   "execution_count": 88,
   "metadata": {},
   "outputs": [],
   "source": [
    "#along with this we can also set a height to negative number\n",
    "\n",
    "r5.height=-100"
   ]
  },
  {
   "cell_type": "code",
   "execution_count": 90,
   "metadata": {},
   "outputs": [
    {
     "data": {
      "text/plain": [
       "The width of rectangle is 10 and height is -100"
      ]
     },
     "execution_count": 90,
     "metadata": {},
     "output_type": "execute_result"
    }
   ],
   "source": [
    "r5 # we know that a negative height does not really makes any sense"
   ]
  },
  {
   "cell_type": "code",
   "execution_count": 1,
   "metadata": {},
   "outputs": [],
   "source": [
    "# To see the properties of the instance of the class\n",
    "class Rectangle:\n",
    "    def __init__(self, width, height):\n",
    "        self._height=height # we use _convention on the variable name to indicate that the variable is a private variable and should not be changed\n",
    "        self._width=width # If a change is required we make use of decorator\n",
    "    @property #This property ensures that the width can be accessed using a separate function\n",
    "    def width(self):\n",
    "        return self._width\n",
    "    @width.setter #This is function that ensures that negative width causes an error\n",
    "    def width(self, width):\n",
    "        if width <0:\n",
    "            raise ValueError ('Width should be positive')\n",
    "        else:\n",
    "            self._width=width\n",
    "    @property\n",
    "    def height(self):\n",
    "        return self._height\n",
    "    @height.setter\n",
    "    def height(self, height):\n",
    "        if height <0:\n",
    "            raise ValueError ('height should be positive')\n",
    "        else:\n",
    "            self._height=height\n",
    "\n",
    "    def area(self):\n",
    "        return self.width * self.height \n",
    "    def perimeter(self):\n",
    "        return 2 * (self.width + self.height)\n",
    "    def __str__(self):\n",
    "        return f\"The width of rectangle is {self.width} and height is {self.height}\"\n",
    "    def __repr__(self):\n",
    "        return f\"The width of rectangle is {self.width} and height is {self.height}\"\n"
   ]
  },
  {
   "cell_type": "code",
   "execution_count": 2,
   "metadata": {},
   "outputs": [],
   "source": [
    "r6= Rectangle(5,10)\n"
   ]
  },
  {
   "cell_type": "code",
   "execution_count": 3,
   "metadata": {},
   "outputs": [
    {
     "data": {
      "text/plain": [
       "The width of rectangle is 5 and height is 10"
      ]
     },
     "execution_count": 3,
     "metadata": {},
     "output_type": "execute_result"
    }
   ],
   "source": [
    "r6"
   ]
  },
  {
   "cell_type": "code",
   "execution_count": 4,
   "metadata": {},
   "outputs": [
    {
     "ename": "ValueError",
     "evalue": "height should be positive",
     "output_type": "error",
     "traceback": [
      "\u001b[1;31m---------------------------------------------------------------------------\u001b[0m",
      "\u001b[1;31mValueError\u001b[0m                                Traceback (most recent call last)",
      "\u001b[1;32mc:\\Users\\kaush\\OneDrive\\Desktop\\Coding\\Advanced Python\\Advance Python_Names_Loops_Classes.ipynb Cell 42'\u001b[0m in \u001b[0;36m<cell line: 1>\u001b[1;34m()\u001b[0m\n\u001b[1;32m----> <a href='vscode-notebook-cell:/c%3A/Users/kaush/OneDrive/Desktop/Coding/Advanced%20Python/Advance%20Python_Names_Loops_Classes.ipynb#ch0000051?line=0'>1</a>\u001b[0m r6\u001b[39m.\u001b[39mheight\u001b[39m=\u001b[39m\u001b[39m-\u001b[39m\u001b[39m10\u001b[39m\n",
      "\u001b[1;32mc:\\Users\\kaush\\OneDrive\\Desktop\\Coding\\Advanced Python\\Advance Python_Names_Loops_Classes.ipynb Cell 39'\u001b[0m in \u001b[0;36mRectangle.height\u001b[1;34m(self, height)\u001b[0m\n\u001b[0;32m     <a href='vscode-notebook-cell:/c%3A/Users/kaush/OneDrive/Desktop/Coding/Advanced%20Python/Advance%20Python_Names_Loops_Classes.ipynb#ch0000048?line=17'>18</a>\u001b[0m \u001b[39m@height\u001b[39m\u001b[39m.\u001b[39msetter\n\u001b[0;32m     <a href='vscode-notebook-cell:/c%3A/Users/kaush/OneDrive/Desktop/Coding/Advanced%20Python/Advance%20Python_Names_Loops_Classes.ipynb#ch0000048?line=18'>19</a>\u001b[0m \u001b[39mdef\u001b[39;00m \u001b[39mheight\u001b[39m(\u001b[39mself\u001b[39m, height):\n\u001b[0;32m     <a href='vscode-notebook-cell:/c%3A/Users/kaush/OneDrive/Desktop/Coding/Advanced%20Python/Advance%20Python_Names_Loops_Classes.ipynb#ch0000048?line=19'>20</a>\u001b[0m     \u001b[39mif\u001b[39;00m height \u001b[39m<\u001b[39m\u001b[39m0\u001b[39m:\n\u001b[1;32m---> <a href='vscode-notebook-cell:/c%3A/Users/kaush/OneDrive/Desktop/Coding/Advanced%20Python/Advance%20Python_Names_Loops_Classes.ipynb#ch0000048?line=20'>21</a>\u001b[0m         \u001b[39mraise\u001b[39;00m \u001b[39mValueError\u001b[39;00m (\u001b[39m'\u001b[39m\u001b[39mheight should be positive\u001b[39m\u001b[39m'\u001b[39m)\n\u001b[0;32m     <a href='vscode-notebook-cell:/c%3A/Users/kaush/OneDrive/Desktop/Coding/Advanced%20Python/Advance%20Python_Names_Loops_Classes.ipynb#ch0000048?line=21'>22</a>\u001b[0m     \u001b[39melse\u001b[39;00m:\n\u001b[0;32m     <a href='vscode-notebook-cell:/c%3A/Users/kaush/OneDrive/Desktop/Coding/Advanced%20Python/Advance%20Python_Names_Loops_Classes.ipynb#ch0000048?line=22'>23</a>\u001b[0m         \u001b[39mself\u001b[39m\u001b[39m.\u001b[39m_height\u001b[39m=\u001b[39mheight\n",
      "\u001b[1;31mValueError\u001b[0m: height should be positive"
     ]
    }
   ],
   "source": [
    "r6.height=-10"
   ]
  },
  {
   "cell_type": "code",
   "execution_count": 5,
   "metadata": {},
   "outputs": [],
   "source": [
    "r6.width=8"
   ]
  },
  {
   "cell_type": "code",
   "execution_count": 6,
   "metadata": {},
   "outputs": [
    {
     "data": {
      "text/plain": [
       "The width of rectangle is 8 and height is 10"
      ]
     },
     "execution_count": 6,
     "metadata": {},
     "output_type": "execute_result"
    }
   ],
   "source": [
    "r6"
   ]
  },
  {
   "cell_type": "code",
   "execution_count": 8,
   "metadata": {},
   "outputs": [
    {
     "data": {
      "text/plain": [
       "8"
      ]
     },
     "execution_count": 8,
     "metadata": {},
     "output_type": "execute_result"
    }
   ],
   "source": [
    "r6.width"
   ]
  },
  {
   "cell_type": "code",
   "execution_count": null,
   "metadata": {},
   "outputs": [],
   "source": []
  }
 ],
 "metadata": {
  "kernelspec": {
   "display_name": "Python 3.10.5 64-bit",
   "language": "python",
   "name": "python3"
  },
  "language_info": {
   "codemirror_mode": {
    "name": "ipython",
    "version": 3
   },
   "file_extension": ".py",
   "mimetype": "text/x-python",
   "name": "python",
   "nbconvert_exporter": "python",
   "pygments_lexer": "ipython3",
   "version": "3.10.5"
  },
  "orig_nbformat": 4,
  "vscode": {
   "interpreter": {
    "hash": "a775d68c7caa7466e6467fb23007def76106cad7ddbb74102d7b5c3b443bac69"
   }
  }
 },
 "nbformat": 4,
 "nbformat_minor": 2
}
