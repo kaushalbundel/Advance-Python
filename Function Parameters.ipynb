{
 "cells": [
  {
   "cell_type": "markdown",
   "id": "c3eb2c9c-8798-4c3f-aded-c9a520d59ad9",
   "metadata": {},
   "source": [
    "# Advanced Python\n",
    "\n",
    "## Function Parameters"
   ]
  },
  {
   "cell_type": "markdown",
   "id": "8194d667-6726-47f5-a692-da6938f399ee",
   "metadata": {},
   "source": [
    "### Arugument vs Parameters\n"
   ]
  },
  {
   "cell_type": "code",
   "execution_count": 4,
   "id": "3d1d3598-935d-4c35-b10a-ee1d94b9bb24",
   "metadata": {},
   "outputs": [
    {
     "data": {
      "text/plain": [
       "7"
      ]
     },
     "execution_count": 4,
     "metadata": {},
     "output_type": "execute_result"
    }
   ],
   "source": [
    "def sum(a:int, b:int):\n",
    "    return a+b\n",
    "\n",
    "sum(3,4)"
   ]
  },
  {
   "cell_type": "markdown",
   "id": "1131f95b-49ff-4437-a294-3a50c4c148cd",
   "metadata": {},
   "source": [
    "In the above scenario, there terms a and b are called parameters and when we call the function that is sum(3,4), then 3 and 4 are called as arguments. The semantics are trivial and it does not matter much. Everyone knows what everyone is talking about when they talk about parameters or arguments. \n",
    "The thing to understand is that while referencing the arguments and parameters reference the memory address of the variable assigned."
   ]
  },
  {
   "cell_type": "markdown",
   "id": "d25dfbc6-1afe-4e40-b033-e413916df38b",
   "metadata": {},
   "source": [
    "### Positional and Keyword Arguments"
   ]
  },
  {
   "cell_type": "markdown",
   "id": "50f2e649-29f5-4855-83ac-3e62c7676fd4",
   "metadata": {},
   "source": [
    "Positional arguments are assigned on the basis of position of arguments and keyword as the name implies are when a keyword is specified along with the argument."
   ]
  },
  {
   "cell_type": "markdown",
   "id": "632e4e22-e2e5-465f-9705-067511b99715",
   "metadata": {},
   "source": [
    "### Unpacking Iterable"
   ]
  },
  {
   "cell_type": "markdown",
   "id": "b6cdc8e9-a5d2-4f36-a6a0-6e28ee021047",
   "metadata": {},
   "source": [
    "A side note on tuple. A tuple is created on the basis of a comma, the brackets are not the basis of tuple creattion"
   ]
  },
  {
   "cell_type": "code",
   "execution_count": 5,
   "id": "03860fd3-5468-4fd9-a2e9-3053b6203656",
   "metadata": {},
   "outputs": [
    {
     "data": {
      "text/plain": [
       "tuple"
      ]
     },
     "execution_count": 5,
     "metadata": {},
     "output_type": "execute_result"
    }
   ],
   "source": [
    "a=(1,2,3)\n",
    "type(a)"
   ]
  },
  {
   "cell_type": "code",
   "execution_count": 6,
   "id": "2e99c90b-9fa3-4d1f-b9dd-99f70e07ea43",
   "metadata": {},
   "outputs": [
    {
     "data": {
      "text/plain": [
       "int"
      ]
     },
     "execution_count": 6,
     "metadata": {},
     "output_type": "execute_result"
    }
   ],
   "source": [
    "b=(1)\n",
    "type(b)"
   ]
  },
  {
   "cell_type": "code",
   "execution_count": 7,
   "id": "fc411c76-87d9-4bba-825b-4a96ba098dea",
   "metadata": {},
   "outputs": [
    {
     "data": {
      "text/plain": [
       "tuple"
      ]
     },
     "execution_count": 7,
     "metadata": {},
     "output_type": "execute_result"
    }
   ],
   "source": [
    "# to create an empty tuple\n",
    "\n",
    "c=()\n",
    "type(c)"
   ]
  },
  {
   "cell_type": "code",
   "execution_count": 9,
   "id": "16dd8cf1-fdbd-49f9-b3d4-f864c47e101b",
   "metadata": {},
   "outputs": [
    {
     "data": {
      "text/plain": [
       "tuple"
      ]
     },
     "execution_count": 9,
     "metadata": {},
     "output_type": "execute_result"
    }
   ],
   "source": [
    "# or using tuple keyword\n",
    "d=tuple()\n",
    "type(d)"
   ]
  },
  {
   "cell_type": "markdown",
   "id": "4df53ecd-3698-419e-ac8c-73442be1da26",
   "metadata": {},
   "source": [
    " Unpacking in iterable?\n",
    " \n",
    " Unpacking is essentially unfolding a bundle. A bundle is a collection of data, so that bundle can be a list, tuple, dictionary or a set. Thus an iterable can be one of these data types. \n",
    " \n",
    " "
   ]
  },
  {
   "cell_type": "code",
   "execution_count": 14,
   "id": "75ede945-728f-4fdf-9161-6021a4ccba94",
   "metadata": {},
   "outputs": [],
   "source": [
    "#unpacking for a list\n",
    "a1, a2, a3=[\"a\", 1, [1,2,3]]"
   ]
  },
  {
   "cell_type": "code",
   "execution_count": 13,
   "id": "f49ebc01-ff8e-4311-ac67-b27d36a18444",
   "metadata": {},
   "outputs": [
    {
     "data": {
      "text/plain": [
       "('a', 1, [1, 2, 3])"
      ]
     },
     "execution_count": 13,
     "metadata": {},
     "output_type": "execute_result"
    }
   ],
   "source": [
    "a1, a2, a3 #This is a way the lists are unpacked"
   ]
  },
  {
   "cell_type": "code",
   "execution_count": 15,
   "id": "51ffc284-938d-4d23-b992-24332142af55",
   "metadata": {},
   "outputs": [],
   "source": [
    "#Unpacking for a tuple\n",
    "b1,b2,b3=(1,3,\"peacock\")"
   ]
  },
  {
   "cell_type": "code",
   "execution_count": 16,
   "id": "26f589ac-b9f7-4deb-8915-03b6c8b69eea",
   "metadata": {},
   "outputs": [
    {
     "data": {
      "text/plain": [
       "(1, 3, 'peacock')"
      ]
     },
     "execution_count": 16,
     "metadata": {},
     "output_type": "execute_result"
    }
   ],
   "source": [
    "b1, b2, b3"
   ]
  },
  {
   "cell_type": "code",
   "execution_count": 17,
   "id": "7100789f-1a92-440d-90c9-7d57bd14106a",
   "metadata": {},
   "outputs": [],
   "source": [
    "#unpacking for a dicitionary\n",
    "dict={'key1':\"apple\", 'key2':2, \"key3\":[1,2,3]}"
   ]
  },
  {
   "cell_type": "code",
   "execution_count": 18,
   "id": "6d46fa89-5fb0-44bf-9867-90763a45bfc9",
   "metadata": {},
   "outputs": [],
   "source": [
    "#We cannnot unpack dictionaries in the way that we have unpacked tuples and list\n",
    "c1,c2,c3=dict"
   ]
  },
  {
   "cell_type": "code",
   "execution_count": 20,
   "id": "00146e1a-a5ee-4eaf-a6f5-5eba54139436",
   "metadata": {},
   "outputs": [
    {
     "data": {
      "text/plain": [
       "('key1', 'key2', 'key3')"
      ]
     },
     "execution_count": 20,
     "metadata": {},
     "output_type": "execute_result"
    }
   ],
   "source": [
    "c1,c2,c3 # As we try to unpack dictionary in the manner of tuple and list, we just get some keys"
   ]
  },
  {
   "cell_type": "markdown",
   "id": "5eb382c0-531f-4ce8-8dbb-3132b1cc1e17",
   "metadata": {},
   "source": [
    "Dictionary and sets are unordered datatypes. They thus won't be unpacked like lists and tuples"
   ]
  },
  {
   "cell_type": "code",
   "execution_count": 22,
   "id": "040737e1-cadd-41bd-ba0b-5963a553e543",
   "metadata": {},
   "outputs": [
    {
     "ename": "ValueError",
     "evalue": "too many values to unpack (expected 2)",
     "output_type": "error",
     "traceback": [
      "\u001b[1;31m---------------------------------------------------------------------------\u001b[0m",
      "\u001b[1;31mValueError\u001b[0m                                Traceback (most recent call last)",
      "\u001b[1;32m~\\AppData\\Local\\Temp\\ipykernel_20156\\5851298.py\u001b[0m in \u001b[0;36m<module>\u001b[1;34m\u001b[0m\n\u001b[0;32m      1\u001b[0m \u001b[1;31m# One way could be to loop through a dicitionary\u001b[0m\u001b[1;33m\u001b[0m\u001b[1;33m\u001b[0m\u001b[1;33m\u001b[0m\u001b[0m\n\u001b[1;32m----> 2\u001b[1;33m \u001b[1;32mfor\u001b[0m \u001b[0mkey\u001b[0m\u001b[1;33m,\u001b[0m \u001b[0mvalue\u001b[0m \u001b[1;32min\u001b[0m \u001b[0mdict\u001b[0m\u001b[1;33m:\u001b[0m\u001b[1;33m\u001b[0m\u001b[1;33m\u001b[0m\u001b[0m\n\u001b[0m\u001b[0;32m      3\u001b[0m     \u001b[0mprint\u001b[0m \u001b[1;33m(\u001b[0m\u001b[0mkey\u001b[0m\u001b[1;33m,\u001b[0m\u001b[0mvalue\u001b[0m\u001b[1;33m)\u001b[0m\u001b[1;33m\u001b[0m\u001b[1;33m\u001b[0m\u001b[0m\n",
      "\u001b[1;31mValueError\u001b[0m: too many values to unpack (expected 2)"
     ]
    }
   ],
   "source": [
    "# One way could be to loop through a dicitionary\n",
    "for key, value in dict:\n",
    "    print (key,value)"
   ]
  },
  {
   "cell_type": "code",
   "execution_count": 23,
   "id": "80d07127-9822-47d4-b79b-244ae81515b9",
   "metadata": {},
   "outputs": [
    {
     "data": {
      "text/plain": [
       "3"
      ]
     },
     "execution_count": 23,
     "metadata": {},
     "output_type": "execute_result"
    }
   ],
   "source": [
    "len(dict)"
   ]
  },
  {
   "cell_type": "code",
   "execution_count": null,
   "id": "ca0b41d2-9268-4275-9e69-332478ba0d6f",
   "metadata": {},
   "outputs": [],
   "source": []
  },
  {
   "cell_type": "code",
   "execution_count": null,
   "id": "46fd8885-506c-4781-b060-1a5d45995632",
   "metadata": {},
   "outputs": [],
   "source": []
  },
  {
   "cell_type": "code",
   "execution_count": null,
   "id": "987ce10e-751f-49ab-8773-d644a19cf2c2",
   "metadata": {},
   "outputs": [],
   "source": []
  },
  {
   "cell_type": "code",
   "execution_count": null,
   "id": "16c575ab-02d1-4661-ac59-60e5227cd447",
   "metadata": {},
   "outputs": [],
   "source": []
  },
  {
   "cell_type": "code",
   "execution_count": null,
   "id": "83d44660-fad6-45c7-b94b-fb12e143b29e",
   "metadata": {},
   "outputs": [],
   "source": []
  }
 ],
 "metadata": {
  "kernelspec": {
   "display_name": "Python 3",
   "language": "python",
   "name": "python3"
  },
  "language_info": {
   "codemirror_mode": {
    "name": "ipython",
    "version": 3
   },
   "file_extension": ".py",
   "mimetype": "text/x-python",
   "name": "python",
   "nbconvert_exporter": "python",
   "pygments_lexer": "ipython3",
   "version": "3.7.13"
  }
 },
 "nbformat": 4,
 "nbformat_minor": 5
}
